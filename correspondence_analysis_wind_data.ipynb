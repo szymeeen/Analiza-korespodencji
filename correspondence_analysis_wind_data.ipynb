{
 "cells": [
  {
   "cell_type": "markdown",
   "id": "0e40dbd6-79f7-466a-808a-863676888927",
   "metadata": {},
   "source": [
    "# Ładowanie pakietow"
   ]
  },
  {
   "cell_type": "code",
   "execution_count": 2,
   "id": "1239ed14-7764-42a6-af41-a4aa14265b7d",
   "metadata": {},
   "outputs": [
    {
     "name": "stderr",
     "output_type": "stream",
     "text": [
      "\n",
      "Dołączanie pakietu: 'arrow'\n",
      "\n",
      "\n",
      "Następujący obiekt został zakryty z 'package:utils':\n",
      "\n",
      "    timestamp\n",
      "\n",
      "\n",
      "Ładowanie wymaganego pakietu: ggplot2\n",
      "\n",
      "Welcome! Want to learn more? See two factoextra-related books at https://goo.gl/ve3WBa\n",
      "\n"
     ]
    }
   ],
   "source": [
    "library(arrow)\n",
    "library(tzdb)\n",
    "library(pheatmap)\n",
    "library(MASS)\n",
    "library(ca)\n",
    "library(RColorBrewer)\n",
    "library(FactoMineR)\n",
    "library(factoextra)"
   ]
  },
  {
   "cell_type": "code",
   "execution_count": 17,
   "id": "76bc3aa3-535a-4a70-b789-3cd3b9c82208",
   "metadata": {
    "scrolled": true
   },
   "outputs": [],
   "source": [
    "path_X = \"C:/Users/szym3n/Desktop/Praca licencjacka/SEASON_2021_2022/X_forecast_1_2021_2022.parquet\"\n",
    "path_Y = \"C:/Users/szym3n/Desktop/Praca licencjacka/SEASON_2021_2022/y_farms_forecast_1_2021_2022.parquet\"\n",
    "X = read_parquet(path_X)\n",
    "Y = read_parquet(path_Y)\n",
    "X = as.data.frame(X[,1:62])\n",
    "\n"
   ]
  },
  {
   "cell_type": "code",
   "execution_count": 64,
   "id": "5c70a65a-2cb5-4c37-ba9a-2d8cd5281c28",
   "metadata": {
    "scrolled": true
   },
   "outputs": [
    {
     "data": {
      "text/html": [
       "<table class=\"dataframe\">\n",
       "<caption>A data.frame: 50 × 8</caption>\n",
       "<thead>\n",
       "\t<tr><th></th><th scope=col>10m_dir_N</th><th scope=col>grid_id</th><th scope=col>10m_dir_NE</th><th scope=col>10m_dir_NW</th><th scope=col>10m_dir_S</th><th scope=col>10m_dir_SE</th><th scope=col>10m_dir_SW</th><th scope=col>10m_dir_W</th></tr>\n",
       "\t<tr><th></th><th scope=col>&lt;lgl&gt;</th><th scope=col>&lt;dbl&gt;</th><th scope=col>&lt;lgl&gt;</th><th scope=col>&lt;lgl&gt;</th><th scope=col>&lt;lgl&gt;</th><th scope=col>&lt;lgl&gt;</th><th scope=col>&lt;lgl&gt;</th><th scope=col>&lt;lgl&gt;</th></tr>\n",
       "</thead>\n",
       "<tbody>\n",
       "\t<tr><th scope=row>1</th><td>FALSE</td><td>6</td><td>FALSE</td><td> TRUE</td><td>FALSE</td><td>FALSE</td><td>FALSE</td><td>FALSE</td></tr>\n",
       "\t<tr><th scope=row>2</th><td>FALSE</td><td>6</td><td>FALSE</td><td>FALSE</td><td>FALSE</td><td>FALSE</td><td>FALSE</td><td> TRUE</td></tr>\n",
       "\t<tr><th scope=row>3</th><td>FALSE</td><td>6</td><td>FALSE</td><td>FALSE</td><td>FALSE</td><td>FALSE</td><td>FALSE</td><td> TRUE</td></tr>\n",
       "\t<tr><th scope=row>4</th><td>FALSE</td><td>6</td><td>FALSE</td><td>FALSE</td><td>FALSE</td><td>FALSE</td><td>FALSE</td><td>FALSE</td></tr>\n",
       "\t<tr><th scope=row>5</th><td>FALSE</td><td>6</td><td>FALSE</td><td>FALSE</td><td>FALSE</td><td>FALSE</td><td> TRUE</td><td>FALSE</td></tr>\n",
       "\t<tr><th scope=row>6</th><td>FALSE</td><td>6</td><td>FALSE</td><td>FALSE</td><td>FALSE</td><td> TRUE</td><td>FALSE</td><td>FALSE</td></tr>\n",
       "\t<tr><th scope=row>7</th><td>FALSE</td><td>6</td><td>FALSE</td><td>FALSE</td><td>FALSE</td><td>FALSE</td><td> TRUE</td><td>FALSE</td></tr>\n",
       "\t<tr><th scope=row>8</th><td>FALSE</td><td>6</td><td> TRUE</td><td>FALSE</td><td>FALSE</td><td>FALSE</td><td>FALSE</td><td>FALSE</td></tr>\n",
       "\t<tr><th scope=row>9</th><td> TRUE</td><td>6</td><td>FALSE</td><td>FALSE</td><td>FALSE</td><td>FALSE</td><td>FALSE</td><td>FALSE</td></tr>\n",
       "\t<tr><th scope=row>10</th><td>FALSE</td><td>6</td><td>FALSE</td><td>FALSE</td><td>FALSE</td><td>FALSE</td><td>FALSE</td><td> TRUE</td></tr>\n",
       "\t<tr><th scope=row>11</th><td>FALSE</td><td>6</td><td>FALSE</td><td>FALSE</td><td>FALSE</td><td>FALSE</td><td>FALSE</td><td>FALSE</td></tr>\n",
       "\t<tr><th scope=row>12</th><td>FALSE</td><td>6</td><td>FALSE</td><td>FALSE</td><td>FALSE</td><td>FALSE</td><td>FALSE</td><td>FALSE</td></tr>\n",
       "\t<tr><th scope=row>13</th><td>FALSE</td><td>6</td><td> TRUE</td><td>FALSE</td><td>FALSE</td><td>FALSE</td><td>FALSE</td><td>FALSE</td></tr>\n",
       "\t<tr><th scope=row>14</th><td>FALSE</td><td>6</td><td>FALSE</td><td>FALSE</td><td>FALSE</td><td>FALSE</td><td>FALSE</td><td>FALSE</td></tr>\n",
       "\t<tr><th scope=row>15</th><td>FALSE</td><td>6</td><td> TRUE</td><td>FALSE</td><td>FALSE</td><td>FALSE</td><td>FALSE</td><td>FALSE</td></tr>\n",
       "\t<tr><th scope=row>16</th><td> TRUE</td><td>6</td><td>FALSE</td><td>FALSE</td><td>FALSE</td><td>FALSE</td><td>FALSE</td><td>FALSE</td></tr>\n",
       "\t<tr><th scope=row>17</th><td> TRUE</td><td>6</td><td>FALSE</td><td>FALSE</td><td>FALSE</td><td>FALSE</td><td>FALSE</td><td>FALSE</td></tr>\n",
       "\t<tr><th scope=row>18</th><td>FALSE</td><td>6</td><td>FALSE</td><td> TRUE</td><td>FALSE</td><td>FALSE</td><td>FALSE</td><td>FALSE</td></tr>\n",
       "\t<tr><th scope=row>19</th><td>FALSE</td><td>6</td><td>FALSE</td><td> TRUE</td><td>FALSE</td><td>FALSE</td><td>FALSE</td><td>FALSE</td></tr>\n",
       "\t<tr><th scope=row>20</th><td>FALSE</td><td>6</td><td>FALSE</td><td>FALSE</td><td>FALSE</td><td>FALSE</td><td>FALSE</td><td> TRUE</td></tr>\n",
       "\t<tr><th scope=row>21</th><td>FALSE</td><td>6</td><td>FALSE</td><td> TRUE</td><td>FALSE</td><td>FALSE</td><td>FALSE</td><td>FALSE</td></tr>\n",
       "\t<tr><th scope=row>22</th><td>FALSE</td><td>6</td><td>FALSE</td><td>FALSE</td><td>FALSE</td><td>FALSE</td><td>FALSE</td><td> TRUE</td></tr>\n",
       "\t<tr><th scope=row>23</th><td>FALSE</td><td>6</td><td>FALSE</td><td>FALSE</td><td>FALSE</td><td>FALSE</td><td>FALSE</td><td> TRUE</td></tr>\n",
       "\t<tr><th scope=row>24</th><td>FALSE</td><td>6</td><td>FALSE</td><td>FALSE</td><td>FALSE</td><td>FALSE</td><td>FALSE</td><td>FALSE</td></tr>\n",
       "\t<tr><th scope=row>25</th><td>FALSE</td><td>6</td><td>FALSE</td><td>FALSE</td><td>FALSE</td><td>FALSE</td><td>FALSE</td><td>FALSE</td></tr>\n",
       "\t<tr><th scope=row>26</th><td>FALSE</td><td>6</td><td>FALSE</td><td>FALSE</td><td>FALSE</td><td> TRUE</td><td>FALSE</td><td>FALSE</td></tr>\n",
       "\t<tr><th scope=row>27</th><td>FALSE</td><td>6</td><td>FALSE</td><td>FALSE</td><td>FALSE</td><td>FALSE</td><td> TRUE</td><td>FALSE</td></tr>\n",
       "\t<tr><th scope=row>28</th><td>FALSE</td><td>6</td><td>FALSE</td><td>FALSE</td><td>FALSE</td><td>FALSE</td><td> TRUE</td><td>FALSE</td></tr>\n",
       "\t<tr><th scope=row>29</th><td>FALSE</td><td>6</td><td>FALSE</td><td>FALSE</td><td>FALSE</td><td>FALSE</td><td> TRUE</td><td>FALSE</td></tr>\n",
       "\t<tr><th scope=row>30</th><td>FALSE</td><td>6</td><td>FALSE</td><td>FALSE</td><td>FALSE</td><td>FALSE</td><td> TRUE</td><td>FALSE</td></tr>\n",
       "\t<tr><th scope=row>31</th><td>FALSE</td><td>6</td><td>FALSE</td><td>FALSE</td><td>FALSE</td><td>FALSE</td><td> TRUE</td><td>FALSE</td></tr>\n",
       "\t<tr><th scope=row>32</th><td>FALSE</td><td>6</td><td>FALSE</td><td>FALSE</td><td>FALSE</td><td>FALSE</td><td>FALSE</td><td> TRUE</td></tr>\n",
       "\t<tr><th scope=row>33</th><td>FALSE</td><td>6</td><td>FALSE</td><td>FALSE</td><td>FALSE</td><td>FALSE</td><td>FALSE</td><td> TRUE</td></tr>\n",
       "\t<tr><th scope=row>34</th><td>FALSE</td><td>6</td><td>FALSE</td><td>FALSE</td><td>FALSE</td><td>FALSE</td><td>FALSE</td><td> TRUE</td></tr>\n",
       "\t<tr><th scope=row>35</th><td>FALSE</td><td>6</td><td> TRUE</td><td>FALSE</td><td>FALSE</td><td>FALSE</td><td>FALSE</td><td>FALSE</td></tr>\n",
       "\t<tr><th scope=row>36</th><td>FALSE</td><td>6</td><td>FALSE</td><td>FALSE</td><td>FALSE</td><td>FALSE</td><td>FALSE</td><td>FALSE</td></tr>\n",
       "\t<tr><th scope=row>37</th><td>FALSE</td><td>6</td><td>FALSE</td><td>FALSE</td><td>FALSE</td><td>FALSE</td><td>FALSE</td><td>FALSE</td></tr>\n",
       "\t<tr><th scope=row>38</th><td>FALSE</td><td>6</td><td>FALSE</td><td>FALSE</td><td>FALSE</td><td> TRUE</td><td>FALSE</td><td>FALSE</td></tr>\n",
       "\t<tr><th scope=row>39</th><td>FALSE</td><td>6</td><td>FALSE</td><td>FALSE</td><td>FALSE</td><td>FALSE</td><td> TRUE</td><td>FALSE</td></tr>\n",
       "\t<tr><th scope=row>40</th><td>FALSE</td><td>6</td><td>FALSE</td><td>FALSE</td><td>FALSE</td><td>FALSE</td><td> TRUE</td><td>FALSE</td></tr>\n",
       "\t<tr><th scope=row>41</th><td>FALSE</td><td>6</td><td>FALSE</td><td>FALSE</td><td>FALSE</td><td>FALSE</td><td> TRUE</td><td>FALSE</td></tr>\n",
       "\t<tr><th scope=row>42</th><td>FALSE</td><td>6</td><td>FALSE</td><td>FALSE</td><td>FALSE</td><td>FALSE</td><td>FALSE</td><td> TRUE</td></tr>\n",
       "\t<tr><th scope=row>43</th><td>FALSE</td><td>6</td><td>FALSE</td><td>FALSE</td><td>FALSE</td><td>FALSE</td><td>FALSE</td><td> TRUE</td></tr>\n",
       "\t<tr><th scope=row>44</th><td>FALSE</td><td>6</td><td>FALSE</td><td>FALSE</td><td> TRUE</td><td>FALSE</td><td>FALSE</td><td>FALSE</td></tr>\n",
       "\t<tr><th scope=row>45</th><td>FALSE</td><td>6</td><td>FALSE</td><td>FALSE</td><td>FALSE</td><td>FALSE</td><td>FALSE</td><td> TRUE</td></tr>\n",
       "\t<tr><th scope=row>46</th><td>FALSE</td><td>6</td><td>FALSE</td><td>FALSE</td><td>FALSE</td><td>FALSE</td><td> TRUE</td><td>FALSE</td></tr>\n",
       "\t<tr><th scope=row>47</th><td>FALSE</td><td>6</td><td>FALSE</td><td>FALSE</td><td>FALSE</td><td>FALSE</td><td> TRUE</td><td>FALSE</td></tr>\n",
       "\t<tr><th scope=row>48</th><td>FALSE</td><td>6</td><td>FALSE</td><td>FALSE</td><td>FALSE</td><td>FALSE</td><td>FALSE</td><td> TRUE</td></tr>\n",
       "\t<tr><th scope=row>49</th><td>FALSE</td><td>6</td><td>FALSE</td><td>FALSE</td><td>FALSE</td><td>FALSE</td><td>FALSE</td><td> TRUE</td></tr>\n",
       "\t<tr><th scope=row>50</th><td>FALSE</td><td>6</td><td>FALSE</td><td>FALSE</td><td>FALSE</td><td>FALSE</td><td>FALSE</td><td> TRUE</td></tr>\n",
       "</tbody>\n",
       "</table>\n"
      ],
      "text/latex": [
       "A data.frame: 50 × 8\n",
       "\\begin{tabular}{r|llllllll}\n",
       "  & 10m\\_dir\\_N & grid\\_id & 10m\\_dir\\_NE & 10m\\_dir\\_NW & 10m\\_dir\\_S & 10m\\_dir\\_SE & 10m\\_dir\\_SW & 10m\\_dir\\_W\\\\\n",
       "  & <lgl> & <dbl> & <lgl> & <lgl> & <lgl> & <lgl> & <lgl> & <lgl>\\\\\n",
       "\\hline\n",
       "\t1 & FALSE & 6 & FALSE &  TRUE & FALSE & FALSE & FALSE & FALSE\\\\\n",
       "\t2 & FALSE & 6 & FALSE & FALSE & FALSE & FALSE & FALSE &  TRUE\\\\\n",
       "\t3 & FALSE & 6 & FALSE & FALSE & FALSE & FALSE & FALSE &  TRUE\\\\\n",
       "\t4 & FALSE & 6 & FALSE & FALSE & FALSE & FALSE & FALSE & FALSE\\\\\n",
       "\t5 & FALSE & 6 & FALSE & FALSE & FALSE & FALSE &  TRUE & FALSE\\\\\n",
       "\t6 & FALSE & 6 & FALSE & FALSE & FALSE &  TRUE & FALSE & FALSE\\\\\n",
       "\t7 & FALSE & 6 & FALSE & FALSE & FALSE & FALSE &  TRUE & FALSE\\\\\n",
       "\t8 & FALSE & 6 &  TRUE & FALSE & FALSE & FALSE & FALSE & FALSE\\\\\n",
       "\t9 &  TRUE & 6 & FALSE & FALSE & FALSE & FALSE & FALSE & FALSE\\\\\n",
       "\t10 & FALSE & 6 & FALSE & FALSE & FALSE & FALSE & FALSE &  TRUE\\\\\n",
       "\t11 & FALSE & 6 & FALSE & FALSE & FALSE & FALSE & FALSE & FALSE\\\\\n",
       "\t12 & FALSE & 6 & FALSE & FALSE & FALSE & FALSE & FALSE & FALSE\\\\\n",
       "\t13 & FALSE & 6 &  TRUE & FALSE & FALSE & FALSE & FALSE & FALSE\\\\\n",
       "\t14 & FALSE & 6 & FALSE & FALSE & FALSE & FALSE & FALSE & FALSE\\\\\n",
       "\t15 & FALSE & 6 &  TRUE & FALSE & FALSE & FALSE & FALSE & FALSE\\\\\n",
       "\t16 &  TRUE & 6 & FALSE & FALSE & FALSE & FALSE & FALSE & FALSE\\\\\n",
       "\t17 &  TRUE & 6 & FALSE & FALSE & FALSE & FALSE & FALSE & FALSE\\\\\n",
       "\t18 & FALSE & 6 & FALSE &  TRUE & FALSE & FALSE & FALSE & FALSE\\\\\n",
       "\t19 & FALSE & 6 & FALSE &  TRUE & FALSE & FALSE & FALSE & FALSE\\\\\n",
       "\t20 & FALSE & 6 & FALSE & FALSE & FALSE & FALSE & FALSE &  TRUE\\\\\n",
       "\t21 & FALSE & 6 & FALSE &  TRUE & FALSE & FALSE & FALSE & FALSE\\\\\n",
       "\t22 & FALSE & 6 & FALSE & FALSE & FALSE & FALSE & FALSE &  TRUE\\\\\n",
       "\t23 & FALSE & 6 & FALSE & FALSE & FALSE & FALSE & FALSE &  TRUE\\\\\n",
       "\t24 & FALSE & 6 & FALSE & FALSE & FALSE & FALSE & FALSE & FALSE\\\\\n",
       "\t25 & FALSE & 6 & FALSE & FALSE & FALSE & FALSE & FALSE & FALSE\\\\\n",
       "\t26 & FALSE & 6 & FALSE & FALSE & FALSE &  TRUE & FALSE & FALSE\\\\\n",
       "\t27 & FALSE & 6 & FALSE & FALSE & FALSE & FALSE &  TRUE & FALSE\\\\\n",
       "\t28 & FALSE & 6 & FALSE & FALSE & FALSE & FALSE &  TRUE & FALSE\\\\\n",
       "\t29 & FALSE & 6 & FALSE & FALSE & FALSE & FALSE &  TRUE & FALSE\\\\\n",
       "\t30 & FALSE & 6 & FALSE & FALSE & FALSE & FALSE &  TRUE & FALSE\\\\\n",
       "\t31 & FALSE & 6 & FALSE & FALSE & FALSE & FALSE &  TRUE & FALSE\\\\\n",
       "\t32 & FALSE & 6 & FALSE & FALSE & FALSE & FALSE & FALSE &  TRUE\\\\\n",
       "\t33 & FALSE & 6 & FALSE & FALSE & FALSE & FALSE & FALSE &  TRUE\\\\\n",
       "\t34 & FALSE & 6 & FALSE & FALSE & FALSE & FALSE & FALSE &  TRUE\\\\\n",
       "\t35 & FALSE & 6 &  TRUE & FALSE & FALSE & FALSE & FALSE & FALSE\\\\\n",
       "\t36 & FALSE & 6 & FALSE & FALSE & FALSE & FALSE & FALSE & FALSE\\\\\n",
       "\t37 & FALSE & 6 & FALSE & FALSE & FALSE & FALSE & FALSE & FALSE\\\\\n",
       "\t38 & FALSE & 6 & FALSE & FALSE & FALSE &  TRUE & FALSE & FALSE\\\\\n",
       "\t39 & FALSE & 6 & FALSE & FALSE & FALSE & FALSE &  TRUE & FALSE\\\\\n",
       "\t40 & FALSE & 6 & FALSE & FALSE & FALSE & FALSE &  TRUE & FALSE\\\\\n",
       "\t41 & FALSE & 6 & FALSE & FALSE & FALSE & FALSE &  TRUE & FALSE\\\\\n",
       "\t42 & FALSE & 6 & FALSE & FALSE & FALSE & FALSE & FALSE &  TRUE\\\\\n",
       "\t43 & FALSE & 6 & FALSE & FALSE & FALSE & FALSE & FALSE &  TRUE\\\\\n",
       "\t44 & FALSE & 6 & FALSE & FALSE &  TRUE & FALSE & FALSE & FALSE\\\\\n",
       "\t45 & FALSE & 6 & FALSE & FALSE & FALSE & FALSE & FALSE &  TRUE\\\\\n",
       "\t46 & FALSE & 6 & FALSE & FALSE & FALSE & FALSE &  TRUE & FALSE\\\\\n",
       "\t47 & FALSE & 6 & FALSE & FALSE & FALSE & FALSE &  TRUE & FALSE\\\\\n",
       "\t48 & FALSE & 6 & FALSE & FALSE & FALSE & FALSE & FALSE &  TRUE\\\\\n",
       "\t49 & FALSE & 6 & FALSE & FALSE & FALSE & FALSE & FALSE &  TRUE\\\\\n",
       "\t50 & FALSE & 6 & FALSE & FALSE & FALSE & FALSE & FALSE &  TRUE\\\\\n",
       "\\end{tabular}\n"
      ],
      "text/markdown": [
       "\n",
       "A data.frame: 50 × 8\n",
       "\n",
       "| <!--/--> | 10m_dir_N &lt;lgl&gt; | grid_id &lt;dbl&gt; | 10m_dir_NE &lt;lgl&gt; | 10m_dir_NW &lt;lgl&gt; | 10m_dir_S &lt;lgl&gt; | 10m_dir_SE &lt;lgl&gt; | 10m_dir_SW &lt;lgl&gt; | 10m_dir_W &lt;lgl&gt; |\n",
       "|---|---|---|---|---|---|---|---|---|\n",
       "| 1 | FALSE | 6 | FALSE |  TRUE | FALSE | FALSE | FALSE | FALSE |\n",
       "| 2 | FALSE | 6 | FALSE | FALSE | FALSE | FALSE | FALSE |  TRUE |\n",
       "| 3 | FALSE | 6 | FALSE | FALSE | FALSE | FALSE | FALSE |  TRUE |\n",
       "| 4 | FALSE | 6 | FALSE | FALSE | FALSE | FALSE | FALSE | FALSE |\n",
       "| 5 | FALSE | 6 | FALSE | FALSE | FALSE | FALSE |  TRUE | FALSE |\n",
       "| 6 | FALSE | 6 | FALSE | FALSE | FALSE |  TRUE | FALSE | FALSE |\n",
       "| 7 | FALSE | 6 | FALSE | FALSE | FALSE | FALSE |  TRUE | FALSE |\n",
       "| 8 | FALSE | 6 |  TRUE | FALSE | FALSE | FALSE | FALSE | FALSE |\n",
       "| 9 |  TRUE | 6 | FALSE | FALSE | FALSE | FALSE | FALSE | FALSE |\n",
       "| 10 | FALSE | 6 | FALSE | FALSE | FALSE | FALSE | FALSE |  TRUE |\n",
       "| 11 | FALSE | 6 | FALSE | FALSE | FALSE | FALSE | FALSE | FALSE |\n",
       "| 12 | FALSE | 6 | FALSE | FALSE | FALSE | FALSE | FALSE | FALSE |\n",
       "| 13 | FALSE | 6 |  TRUE | FALSE | FALSE | FALSE | FALSE | FALSE |\n",
       "| 14 | FALSE | 6 | FALSE | FALSE | FALSE | FALSE | FALSE | FALSE |\n",
       "| 15 | FALSE | 6 |  TRUE | FALSE | FALSE | FALSE | FALSE | FALSE |\n",
       "| 16 |  TRUE | 6 | FALSE | FALSE | FALSE | FALSE | FALSE | FALSE |\n",
       "| 17 |  TRUE | 6 | FALSE | FALSE | FALSE | FALSE | FALSE | FALSE |\n",
       "| 18 | FALSE | 6 | FALSE |  TRUE | FALSE | FALSE | FALSE | FALSE |\n",
       "| 19 | FALSE | 6 | FALSE |  TRUE | FALSE | FALSE | FALSE | FALSE |\n",
       "| 20 | FALSE | 6 | FALSE | FALSE | FALSE | FALSE | FALSE |  TRUE |\n",
       "| 21 | FALSE | 6 | FALSE |  TRUE | FALSE | FALSE | FALSE | FALSE |\n",
       "| 22 | FALSE | 6 | FALSE | FALSE | FALSE | FALSE | FALSE |  TRUE |\n",
       "| 23 | FALSE | 6 | FALSE | FALSE | FALSE | FALSE | FALSE |  TRUE |\n",
       "| 24 | FALSE | 6 | FALSE | FALSE | FALSE | FALSE | FALSE | FALSE |\n",
       "| 25 | FALSE | 6 | FALSE | FALSE | FALSE | FALSE | FALSE | FALSE |\n",
       "| 26 | FALSE | 6 | FALSE | FALSE | FALSE |  TRUE | FALSE | FALSE |\n",
       "| 27 | FALSE | 6 | FALSE | FALSE | FALSE | FALSE |  TRUE | FALSE |\n",
       "| 28 | FALSE | 6 | FALSE | FALSE | FALSE | FALSE |  TRUE | FALSE |\n",
       "| 29 | FALSE | 6 | FALSE | FALSE | FALSE | FALSE |  TRUE | FALSE |\n",
       "| 30 | FALSE | 6 | FALSE | FALSE | FALSE | FALSE |  TRUE | FALSE |\n",
       "| 31 | FALSE | 6 | FALSE | FALSE | FALSE | FALSE |  TRUE | FALSE |\n",
       "| 32 | FALSE | 6 | FALSE | FALSE | FALSE | FALSE | FALSE |  TRUE |\n",
       "| 33 | FALSE | 6 | FALSE | FALSE | FALSE | FALSE | FALSE |  TRUE |\n",
       "| 34 | FALSE | 6 | FALSE | FALSE | FALSE | FALSE | FALSE |  TRUE |\n",
       "| 35 | FALSE | 6 |  TRUE | FALSE | FALSE | FALSE | FALSE | FALSE |\n",
       "| 36 | FALSE | 6 | FALSE | FALSE | FALSE | FALSE | FALSE | FALSE |\n",
       "| 37 | FALSE | 6 | FALSE | FALSE | FALSE | FALSE | FALSE | FALSE |\n",
       "| 38 | FALSE | 6 | FALSE | FALSE | FALSE |  TRUE | FALSE | FALSE |\n",
       "| 39 | FALSE | 6 | FALSE | FALSE | FALSE | FALSE |  TRUE | FALSE |\n",
       "| 40 | FALSE | 6 | FALSE | FALSE | FALSE | FALSE |  TRUE | FALSE |\n",
       "| 41 | FALSE | 6 | FALSE | FALSE | FALSE | FALSE |  TRUE | FALSE |\n",
       "| 42 | FALSE | 6 | FALSE | FALSE | FALSE | FALSE | FALSE |  TRUE |\n",
       "| 43 | FALSE | 6 | FALSE | FALSE | FALSE | FALSE | FALSE |  TRUE |\n",
       "| 44 | FALSE | 6 | FALSE | FALSE |  TRUE | FALSE | FALSE | FALSE |\n",
       "| 45 | FALSE | 6 | FALSE | FALSE | FALSE | FALSE | FALSE |  TRUE |\n",
       "| 46 | FALSE | 6 | FALSE | FALSE | FALSE | FALSE |  TRUE | FALSE |\n",
       "| 47 | FALSE | 6 | FALSE | FALSE | FALSE | FALSE |  TRUE | FALSE |\n",
       "| 48 | FALSE | 6 | FALSE | FALSE | FALSE | FALSE | FALSE |  TRUE |\n",
       "| 49 | FALSE | 6 | FALSE | FALSE | FALSE | FALSE | FALSE |  TRUE |\n",
       "| 50 | FALSE | 6 | FALSE | FALSE | FALSE | FALSE | FALSE |  TRUE |\n",
       "\n"
      ],
      "text/plain": [
       "   10m_dir_N grid_id 10m_dir_NE 10m_dir_NW 10m_dir_S 10m_dir_SE 10m_dir_SW\n",
       "1  FALSE     6       FALSE       TRUE      FALSE     FALSE      FALSE     \n",
       "2  FALSE     6       FALSE      FALSE      FALSE     FALSE      FALSE     \n",
       "3  FALSE     6       FALSE      FALSE      FALSE     FALSE      FALSE     \n",
       "4  FALSE     6       FALSE      FALSE      FALSE     FALSE      FALSE     \n",
       "5  FALSE     6       FALSE      FALSE      FALSE     FALSE       TRUE     \n",
       "6  FALSE     6       FALSE      FALSE      FALSE      TRUE      FALSE     \n",
       "7  FALSE     6       FALSE      FALSE      FALSE     FALSE       TRUE     \n",
       "8  FALSE     6        TRUE      FALSE      FALSE     FALSE      FALSE     \n",
       "9   TRUE     6       FALSE      FALSE      FALSE     FALSE      FALSE     \n",
       "10 FALSE     6       FALSE      FALSE      FALSE     FALSE      FALSE     \n",
       "11 FALSE     6       FALSE      FALSE      FALSE     FALSE      FALSE     \n",
       "12 FALSE     6       FALSE      FALSE      FALSE     FALSE      FALSE     \n",
       "13 FALSE     6        TRUE      FALSE      FALSE     FALSE      FALSE     \n",
       "14 FALSE     6       FALSE      FALSE      FALSE     FALSE      FALSE     \n",
       "15 FALSE     6        TRUE      FALSE      FALSE     FALSE      FALSE     \n",
       "16  TRUE     6       FALSE      FALSE      FALSE     FALSE      FALSE     \n",
       "17  TRUE     6       FALSE      FALSE      FALSE     FALSE      FALSE     \n",
       "18 FALSE     6       FALSE       TRUE      FALSE     FALSE      FALSE     \n",
       "19 FALSE     6       FALSE       TRUE      FALSE     FALSE      FALSE     \n",
       "20 FALSE     6       FALSE      FALSE      FALSE     FALSE      FALSE     \n",
       "21 FALSE     6       FALSE       TRUE      FALSE     FALSE      FALSE     \n",
       "22 FALSE     6       FALSE      FALSE      FALSE     FALSE      FALSE     \n",
       "23 FALSE     6       FALSE      FALSE      FALSE     FALSE      FALSE     \n",
       "24 FALSE     6       FALSE      FALSE      FALSE     FALSE      FALSE     \n",
       "25 FALSE     6       FALSE      FALSE      FALSE     FALSE      FALSE     \n",
       "26 FALSE     6       FALSE      FALSE      FALSE      TRUE      FALSE     \n",
       "27 FALSE     6       FALSE      FALSE      FALSE     FALSE       TRUE     \n",
       "28 FALSE     6       FALSE      FALSE      FALSE     FALSE       TRUE     \n",
       "29 FALSE     6       FALSE      FALSE      FALSE     FALSE       TRUE     \n",
       "30 FALSE     6       FALSE      FALSE      FALSE     FALSE       TRUE     \n",
       "31 FALSE     6       FALSE      FALSE      FALSE     FALSE       TRUE     \n",
       "32 FALSE     6       FALSE      FALSE      FALSE     FALSE      FALSE     \n",
       "33 FALSE     6       FALSE      FALSE      FALSE     FALSE      FALSE     \n",
       "34 FALSE     6       FALSE      FALSE      FALSE     FALSE      FALSE     \n",
       "35 FALSE     6        TRUE      FALSE      FALSE     FALSE      FALSE     \n",
       "36 FALSE     6       FALSE      FALSE      FALSE     FALSE      FALSE     \n",
       "37 FALSE     6       FALSE      FALSE      FALSE     FALSE      FALSE     \n",
       "38 FALSE     6       FALSE      FALSE      FALSE      TRUE      FALSE     \n",
       "39 FALSE     6       FALSE      FALSE      FALSE     FALSE       TRUE     \n",
       "40 FALSE     6       FALSE      FALSE      FALSE     FALSE       TRUE     \n",
       "41 FALSE     6       FALSE      FALSE      FALSE     FALSE       TRUE     \n",
       "42 FALSE     6       FALSE      FALSE      FALSE     FALSE      FALSE     \n",
       "43 FALSE     6       FALSE      FALSE      FALSE     FALSE      FALSE     \n",
       "44 FALSE     6       FALSE      FALSE       TRUE     FALSE      FALSE     \n",
       "45 FALSE     6       FALSE      FALSE      FALSE     FALSE      FALSE     \n",
       "46 FALSE     6       FALSE      FALSE      FALSE     FALSE       TRUE     \n",
       "47 FALSE     6       FALSE      FALSE      FALSE     FALSE       TRUE     \n",
       "48 FALSE     6       FALSE      FALSE      FALSE     FALSE      FALSE     \n",
       "49 FALSE     6       FALSE      FALSE      FALSE     FALSE      FALSE     \n",
       "50 FALSE     6       FALSE      FALSE      FALSE     FALSE      FALSE     \n",
       "   10m_dir_W\n",
       "1  FALSE    \n",
       "2   TRUE    \n",
       "3   TRUE    \n",
       "4  FALSE    \n",
       "5  FALSE    \n",
       "6  FALSE    \n",
       "7  FALSE    \n",
       "8  FALSE    \n",
       "9  FALSE    \n",
       "10  TRUE    \n",
       "11 FALSE    \n",
       "12 FALSE    \n",
       "13 FALSE    \n",
       "14 FALSE    \n",
       "15 FALSE    \n",
       "16 FALSE    \n",
       "17 FALSE    \n",
       "18 FALSE    \n",
       "19 FALSE    \n",
       "20  TRUE    \n",
       "21 FALSE    \n",
       "22  TRUE    \n",
       "23  TRUE    \n",
       "24 FALSE    \n",
       "25 FALSE    \n",
       "26 FALSE    \n",
       "27 FALSE    \n",
       "28 FALSE    \n",
       "29 FALSE    \n",
       "30 FALSE    \n",
       "31 FALSE    \n",
       "32  TRUE    \n",
       "33  TRUE    \n",
       "34  TRUE    \n",
       "35 FALSE    \n",
       "36 FALSE    \n",
       "37 FALSE    \n",
       "38 FALSE    \n",
       "39 FALSE    \n",
       "40 FALSE    \n",
       "41 FALSE    \n",
       "42  TRUE    \n",
       "43  TRUE    \n",
       "44 FALSE    \n",
       "45  TRUE    \n",
       "46 FALSE    \n",
       "47 FALSE    \n",
       "48  TRUE    \n",
       "49  TRUE    \n",
       "50  TRUE    "
      ]
     },
     "metadata": {},
     "output_type": "display_data"
    }
   ],
   "source": [
    "# Lista wybranych kolumn\n",
    "selected_columns <- c('10m_dir_E','10m_dir_N', 'grid_id',\n",
    "                      '10m_dir_NE','10m_dir_NW','10m_dir_S','10m_dir_SE','10m_dir_SW','10m_dir_W')\n",
    "\n",
    "# Wybierz tylko wybrane kolumny\n",
    "dane <- X[selected_columns]\n",
    "\n",
    "# Zamień wartości logiczne na 0/1 za pomocą ifelse()\n",
    "#dane <- data.frame(lapply(dane, function(x) ifelse(x, 1, 0)))\n",
    "\n",
    "\n",
    "\n",
    "#dane <- aggregate(. ~ grid_id, data = dane, sum)\n",
    "#row.names(dane) = dane$grid_id\n",
    "dane = dane[1:50,2:9]\n",
    "dane\n"
   ]
  },
  {
   "cell_type": "markdown",
   "id": "ad206025-5123-4e60-973c-9e00945c31ff",
   "metadata": {},
   "source": [
    "## Sumowanie wierszy, aby uproscic zbiór"
   ]
  },
  {
   "cell_type": "code",
   "execution_count": 53,
   "id": "504e745b-bef7-4628-a679-43c4648ff592",
   "metadata": {},
   "outputs": [
    {
     "data": {
      "text/html": [
       "18250"
      ],
      "text/latex": [
       "18250"
      ],
      "text/markdown": [
       "18250"
      ],
      "text/plain": [
       "[1] 18250"
      ]
     },
     "metadata": {},
     "output_type": "display_data"
    }
   ],
   "source": [
    "dane_sumowane <- sapply(seq(1, nrow(dane), by = 100), function(i) {\n",
    "  sum(dane[i:min(i+99, nrow(dane)), ])\n",
    "})\n",
    "dane_sumowane"
   ]
  },
  {
   "cell_type": "code",
   "execution_count": 54,
   "id": "02ffae4c-6de1-489d-9f58-25102c4580df",
   "metadata": {},
   "outputs": [
    {
     "data": {
      "text/html": [
       "<style>\n",
       ".dl-inline {width: auto; margin:0; padding: 0}\n",
       ".dl-inline>dt, .dl-inline>dd {float: none; width: auto; display: inline-block}\n",
       ".dl-inline>dt::after {content: \":\\0020\"; padding-right: .5ex}\n",
       ".dl-inline>dt:not(:first-of-type) {padding-left: .5ex}\n",
       "</style><dl class=dl-inline><dt>10m_dir_E</dt><dd>1284</dd><dt>10m_dir_N</dt><dd>1498</dd><dt>10m_dir_NE</dt><dd>1356</dd><dt>10m_dir_NW</dt><dd>2085</dd><dt>10m_dir_S</dt><dd>1693</dd><dt>10m_dir_SE</dt><dd>1885</dd><dt>10m_dir_SW</dt><dd>3464</dd><dt>10m_dir_W</dt><dd>4985</dd></dl>\n"
      ],
      "text/latex": [
       "\\begin{description*}\n",
       "\\item[10m\\textbackslash{}\\_dir\\textbackslash{}\\_E] 1284\n",
       "\\item[10m\\textbackslash{}\\_dir\\textbackslash{}\\_N] 1498\n",
       "\\item[10m\\textbackslash{}\\_dir\\textbackslash{}\\_NE] 1356\n",
       "\\item[10m\\textbackslash{}\\_dir\\textbackslash{}\\_NW] 2085\n",
       "\\item[10m\\textbackslash{}\\_dir\\textbackslash{}\\_S] 1693\n",
       "\\item[10m\\textbackslash{}\\_dir\\textbackslash{}\\_SE] 1885\n",
       "\\item[10m\\textbackslash{}\\_dir\\textbackslash{}\\_SW] 3464\n",
       "\\item[10m\\textbackslash{}\\_dir\\textbackslash{}\\_W] 4985\n",
       "\\end{description*}\n"
      ],
      "text/markdown": [
       "10m_dir_E\n",
       ":   128410m_dir_N\n",
       ":   149810m_dir_NE\n",
       ":   135610m_dir_NW\n",
       ":   208510m_dir_S\n",
       ":   169310m_dir_SE\n",
       ":   188510m_dir_SW\n",
       ":   346410m_dir_W\n",
       ":   4985\n",
       "\n"
      ],
      "text/plain": [
       " 10m_dir_E  10m_dir_N 10m_dir_NE 10m_dir_NW  10m_dir_S 10m_dir_SE 10m_dir_SW \n",
       "      1284       1498       1356       2085       1693       1885       3464 \n",
       " 10m_dir_W \n",
       "      4985 "
      ]
     },
     "metadata": {},
     "output_type": "display_data"
    },
    {
     "data": {
      "text/html": [
       "<table class=\"dataframe\">\n",
       "<caption>A matrix: 6 × 8 of type int</caption>\n",
       "<thead>\n",
       "\t<tr><th></th><th scope=col>10m_dir_E</th><th scope=col>10m_dir_N</th><th scope=col>10m_dir_NE</th><th scope=col>10m_dir_NW</th><th scope=col>10m_dir_S</th><th scope=col>10m_dir_SE</th><th scope=col>10m_dir_SW</th><th scope=col>10m_dir_W</th></tr>\n",
       "</thead>\n",
       "<tbody>\n",
       "\t<tr><th scope=row>6</th><td>29</td><td>18</td><td>42</td><td>43</td><td>28</td><td>34</td><td>70</td><td>101</td></tr>\n",
       "\t<tr><th scope=row>7</th><td>22</td><td>19</td><td>42</td><td>43</td><td>29</td><td>37</td><td>70</td><td>103</td></tr>\n",
       "\t<tr><th scope=row>8</th><td>22</td><td>19</td><td>42</td><td>43</td><td>29</td><td>37</td><td>70</td><td>103</td></tr>\n",
       "\t<tr><th scope=row>9</th><td>18</td><td>25</td><td>34</td><td>42</td><td>33</td><td>41</td><td>71</td><td>101</td></tr>\n",
       "\t<tr><th scope=row>10</th><td>22</td><td>30</td><td>31</td><td>36</td><td>31</td><td>39</td><td>71</td><td>105</td></tr>\n",
       "\t<tr><th scope=row>11</th><td>22</td><td>30</td><td>31</td><td>36</td><td>31</td><td>39</td><td>71</td><td>105</td></tr>\n",
       "</tbody>\n",
       "</table>\n"
      ],
      "text/latex": [
       "A matrix: 6 × 8 of type int\n",
       "\\begin{tabular}{r|llllllll}\n",
       "  & 10m\\_dir\\_E & 10m\\_dir\\_N & 10m\\_dir\\_NE & 10m\\_dir\\_NW & 10m\\_dir\\_S & 10m\\_dir\\_SE & 10m\\_dir\\_SW & 10m\\_dir\\_W\\\\\n",
       "\\hline\n",
       "\t6 & 29 & 18 & 42 & 43 & 28 & 34 & 70 & 101\\\\\n",
       "\t7 & 22 & 19 & 42 & 43 & 29 & 37 & 70 & 103\\\\\n",
       "\t8 & 22 & 19 & 42 & 43 & 29 & 37 & 70 & 103\\\\\n",
       "\t9 & 18 & 25 & 34 & 42 & 33 & 41 & 71 & 101\\\\\n",
       "\t10 & 22 & 30 & 31 & 36 & 31 & 39 & 71 & 105\\\\\n",
       "\t11 & 22 & 30 & 31 & 36 & 31 & 39 & 71 & 105\\\\\n",
       "\\end{tabular}\n"
      ],
      "text/markdown": [
       "\n",
       "A matrix: 6 × 8 of type int\n",
       "\n",
       "| <!--/--> | 10m_dir_E | 10m_dir_N | 10m_dir_NE | 10m_dir_NW | 10m_dir_S | 10m_dir_SE | 10m_dir_SW | 10m_dir_W |\n",
       "|---|---|---|---|---|---|---|---|---|\n",
       "| 6 | 29 | 18 | 42 | 43 | 28 | 34 | 70 | 101 |\n",
       "| 7 | 22 | 19 | 42 | 43 | 29 | 37 | 70 | 103 |\n",
       "| 8 | 22 | 19 | 42 | 43 | 29 | 37 | 70 | 103 |\n",
       "| 9 | 18 | 25 | 34 | 42 | 33 | 41 | 71 | 101 |\n",
       "| 10 | 22 | 30 | 31 | 36 | 31 | 39 | 71 | 105 |\n",
       "| 11 | 22 | 30 | 31 | 36 | 31 | 39 | 71 | 105 |\n",
       "\n"
      ],
      "text/plain": [
       "   10m_dir_E 10m_dir_N 10m_dir_NE 10m_dir_NW 10m_dir_S 10m_dir_SE 10m_dir_SW\n",
       "6  29        18        42         43         28        34         70        \n",
       "7  22        19        42         43         29        37         70        \n",
       "8  22        19        42         43         29        37         70        \n",
       "9  18        25        34         42         33        41         71        \n",
       "10 22        30        31         36         31        39         71        \n",
       "11 22        30        31         36         31        39         71        \n",
       "   10m_dir_W\n",
       "6  101      \n",
       "7  103      \n",
       "8  103      \n",
       "9  101      \n",
       "10 105      \n",
       "11 105      "
      ]
     },
     "metadata": {},
     "output_type": "display_data"
    },
    {
     "data": {
      "image/png": "[encoded data removed]",
      "text/plain": [
       "plot without title"
      ]
     },
     "metadata": {
      "image/png": {
       "height": 420,
       "width": 420
      }
     },
     "output_type": "display_data"
    }
   ],
   "source": [
    "dane = as.matrix(dane)\n",
    "colSums(dane)\n",
    "head(dane)\n",
    "pheatmap(dane, scale = \"row\")"
   ]
  },
  {
   "cell_type": "code",
   "execution_count": 55,
   "id": "fd75ba9c-c88c-4164-a886-51ed4c7db1d4",
   "metadata": {},
   "outputs": [
    {
     "data": {
      "text/plain": [
       "\n",
       "\tPearson's Chi-squared test\n",
       "\n",
       "data:  dane\n",
       "X-squared = 663.47, df = 343, p-value < 2.2e-16\n"
      ]
     },
     "metadata": {},
     "output_type": "display_data"
    }
   ],
   "source": [
    "chisq.test(dane)"
   ]
  },
  {
   "cell_type": "code",
   "execution_count": 62,
   "id": "f5e890aa-dcde-42a4-9825-712ce9df7c43",
   "metadata": {},
   "outputs": [
    {
     "data": {
      "text/html": [
       "<table class=\"dataframe\">\n",
       "<caption>A matrix: 6 × 8 of type dbl</caption>\n",
       "<thead>\n",
       "\t<tr><th></th><th scope=col>10m_dir_E</th><th scope=col>10m_dir_N</th><th scope=col>10m_dir_NE</th><th scope=col>10m_dir_NW</th><th scope=col>10m_dir_S</th><th scope=col>10m_dir_SE</th><th scope=col>10m_dir_SW</th><th scope=col>10m_dir_W</th></tr>\n",
       "</thead>\n",
       "<tbody>\n",
       "\t<tr><th scope=row>6</th><td> 0.004849636</td><td>-1.617442e-02</td><td>0.021150793</td><td> 0.0014901977</td><td>-0.007454572</td><td>-0.0044606651</td><td>0.0006403201</td><td>0.0009637499</td></tr>\n",
       "\t<tr><th scope=row>7</th><td>-0.005375500</td><td>-1.482205e-02</td><td>0.021150793</td><td> 0.0014901977</td><td>-0.006182461</td><td>-0.0008439096</td><td>0.0006403201</td><td>0.0024464420</td></tr>\n",
       "\t<tr><th scope=row>8</th><td>-0.005375500</td><td>-1.482205e-02</td><td>0.021150793</td><td> 0.0014901977</td><td>-0.006182461</td><td>-0.0008439096</td><td>0.0006403201</td><td>0.0024464420</td></tr>\n",
       "\t<tr><th scope=row>9</th><td>-0.011218435</td><td>-6.707788e-03</td><td>0.009779399</td><td> 0.0003438918</td><td>-0.001094016</td><td> 0.0039784310</td><td>0.0015296535</td><td>0.0009637499</td></tr>\n",
       "\t<tr><th scope=row>10</th><td>-0.005375500</td><td> 5.409507e-05</td><td>0.005515126</td><td>-0.0065339438</td><td>-0.003638238</td><td> 0.0015672607</td><td>0.0015296535</td><td>0.0039291341</td></tr>\n",
       "\t<tr><th scope=row>11</th><td>-0.005375500</td><td> 5.409507e-05</td><td>0.005515126</td><td>-0.0065339438</td><td>-0.003638238</td><td> 0.0015672607</td><td>0.0015296535</td><td>0.0039291341</td></tr>\n",
       "</tbody>\n",
       "</table>\n"
      ],
      "text/latex": [
       "A matrix: 6 × 8 of type dbl\n",
       "\\begin{tabular}{r|llllllll}\n",
       "  & 10m\\_dir\\_E & 10m\\_dir\\_N & 10m\\_dir\\_NE & 10m\\_dir\\_NW & 10m\\_dir\\_S & 10m\\_dir\\_SE & 10m\\_dir\\_SW & 10m\\_dir\\_W\\\\\n",
       "\\hline\n",
       "\t6 &  0.004849636 & -1.617442e-02 & 0.021150793 &  0.0014901977 & -0.007454572 & -0.0044606651 & 0.0006403201 & 0.0009637499\\\\\n",
       "\t7 & -0.005375500 & -1.482205e-02 & 0.021150793 &  0.0014901977 & -0.006182461 & -0.0008439096 & 0.0006403201 & 0.0024464420\\\\\n",
       "\t8 & -0.005375500 & -1.482205e-02 & 0.021150793 &  0.0014901977 & -0.006182461 & -0.0008439096 & 0.0006403201 & 0.0024464420\\\\\n",
       "\t9 & -0.011218435 & -6.707788e-03 & 0.009779399 &  0.0003438918 & -0.001094016 &  0.0039784310 & 0.0015296535 & 0.0009637499\\\\\n",
       "\t10 & -0.005375500 &  5.409507e-05 & 0.005515126 & -0.0065339438 & -0.003638238 &  0.0015672607 & 0.0015296535 & 0.0039291341\\\\\n",
       "\t11 & -0.005375500 &  5.409507e-05 & 0.005515126 & -0.0065339438 & -0.003638238 &  0.0015672607 & 0.0015296535 & 0.0039291341\\\\\n",
       "\\end{tabular}\n"
      ],
      "text/markdown": [
       "\n",
       "A matrix: 6 × 8 of type dbl\n",
       "\n",
       "| <!--/--> | 10m_dir_E | 10m_dir_N | 10m_dir_NE | 10m_dir_NW | 10m_dir_S | 10m_dir_SE | 10m_dir_SW | 10m_dir_W |\n",
       "|---|---|---|---|---|---|---|---|---|\n",
       "| 6 |  0.004849636 | -1.617442e-02 | 0.021150793 |  0.0014901977 | -0.007454572 | -0.0044606651 | 0.0006403201 | 0.0009637499 |\n",
       "| 7 | -0.005375500 | -1.482205e-02 | 0.021150793 |  0.0014901977 | -0.006182461 | -0.0008439096 | 0.0006403201 | 0.0024464420 |\n",
       "| 8 | -0.005375500 | -1.482205e-02 | 0.021150793 |  0.0014901977 | -0.006182461 | -0.0008439096 | 0.0006403201 | 0.0024464420 |\n",
       "| 9 | -0.011218435 | -6.707788e-03 | 0.009779399 |  0.0003438918 | -0.001094016 |  0.0039784310 | 0.0015296535 | 0.0009637499 |\n",
       "| 10 | -0.005375500 |  5.409507e-05 | 0.005515126 | -0.0065339438 | -0.003638238 |  0.0015672607 | 0.0015296535 | 0.0039291341 |\n",
       "| 11 | -0.005375500 |  5.409507e-05 | 0.005515126 | -0.0065339438 | -0.003638238 |  0.0015672607 | 0.0015296535 | 0.0039291341 |\n",
       "\n"
      ],
      "text/plain": [
       "   10m_dir_E    10m_dir_N     10m_dir_NE  10m_dir_NW    10m_dir_S   \n",
       "6   0.004849636 -1.617442e-02 0.021150793  0.0014901977 -0.007454572\n",
       "7  -0.005375500 -1.482205e-02 0.021150793  0.0014901977 -0.006182461\n",
       "8  -0.005375500 -1.482205e-02 0.021150793  0.0014901977 -0.006182461\n",
       "9  -0.011218435 -6.707788e-03 0.009779399  0.0003438918 -0.001094016\n",
       "10 -0.005375500  5.409507e-05 0.005515126 -0.0065339438 -0.003638238\n",
       "11 -0.005375500  5.409507e-05 0.005515126 -0.0065339438 -0.003638238\n",
       "   10m_dir_SE    10m_dir_SW   10m_dir_W   \n",
       "6  -0.0044606651 0.0006403201 0.0009637499\n",
       "7  -0.0008439096 0.0006403201 0.0024464420\n",
       "8  -0.0008439096 0.0006403201 0.0024464420\n",
       "9   0.0039784310 0.0015296535 0.0009637499\n",
       "10  0.0015672607 0.0015296535 0.0039291341\n",
       "11  0.0015672607 0.0015296535 0.0039291341"
      ]
     },
     "metadata": {},
     "output_type": "display_data"
    },
    {
     "data": {
      "image/png": "[encoded data removed]",
      "text/plain": [
       "plot without title"
      ]
     },
     "metadata": {
      "image/png": {
       "height": 420,
       "width": 420
      }
     },
     "output_type": "display_data"
    }
   ],
   "source": [
    "P = dane/sum(dane)\n",
    "# Macierz częstości oczekiwanych\n",
    "PP = outer(rowSums(P),colSums(P))\n",
    "# Macierz residuów Pearsonowskich\n",
    "E = (P-PP)/sqrt(PP)\n",
    "head(E)\n",
    "#pheatmap(E, scale = \"row\",show_rownames=FALSE,cluster_rows=FALSE)\n",
    "\n",
    "pheatmap(E, scale = \"row\")"
   ]
  },
  {
   "cell_type": "code",
   "execution_count": 66,
   "id": "a6ac7b5c-2358-4d19-bd65-987583b5d9fd",
   "metadata": {},
   "outputs": [
    {
     "data": {
      "text/plain": [
       "\n",
       "Principal inertias (eigenvalues):\n",
       "\n",
       " dim    value      %   cum%   scree plot               \n",
       " 1      0.142857  16.2  16.2  ****                     \n",
       " 2      0.142857  16.2  32.5  ****                     \n",
       " 3      0.142857  16.2  48.7  ****                     \n",
       " 4      0.142857  16.2  64.9  ****                     \n",
       " 5      0.142857  16.2  81.2  ****                     \n",
       " 6      0.142857  16.2  97.4  ****                     \n",
       " 7      0.022857   2.6 100.0  *                        \n",
       "        -------- -----                                 \n",
       " Total: 0.880000 100.0                                 \n",
       "\n",
       "\n",
       "Rows:\n",
       "     name   mass  qlt  inr     k=1 cor ctr     k=2 cor ctr  \n",
       "1  |    1 |   20  982   37 | -1235 963 218 |  -173  19   4 |\n",
       "2  |    2 |   20  181    7 |   169  94   4 |  -162  86   4 |\n",
       "3  |    3 |   20  181    7 |   169  94   4 |  -162  86   4 |\n",
       "4  |    4 |   18    0    3 |     0   0   0 |     0   0   0 |\n",
       "5  |    5 |   20  154   10 |   115  32   2 |   227 122   7 |\n",
       "6  |    6 |   20  207   50 |   -45   1   0 |   668 206  64 |\n",
       "7  |    7 |   20  154   10 |   115  32   2 |   227 122   7 |\n",
       "8  |    8 |   20   35   37 |   199  25   6 |   127  10   2 |\n",
       "9  |    9 |   20    0   50 |     0   0   0 |     0   0   0 |\n",
       "10 |   10 |   20  181    7 |   169  94   4 |  -162  86   4 |\n",
       "11 |   11 |   18    0    3 |     0   0   0 |     0   0   0 |\n",
       "12 |   12 |   18    0    3 |     0   0   0 |     0   0   0 |\n",
       "13 |   13 |   20   35   37 |   199  25   6 |   127  10   2 |\n",
       "14 |   14 |   18    0    3 |     0   0   0 |     0   0   0 |\n",
       "15 |   15 |   20   35   37 |   199  25   6 |   127  10   2 |\n",
       "16 |   16 |   20    0   50 |     0   0   0 |     0   0   0 |\n",
       "17 |   17 |   20    0   50 |     0   0   0 |     0   0   0 |\n",
       "18 |   18 |   20  982   37 | -1235 963 218 |  -173  19   4 |\n",
       "19 |   19 |   20  982   37 | -1235 963 218 |  -173  19   4 |\n",
       "20 |   20 |   20  181    7 |   169  94   4 |  -162  86   4 |\n",
       "21 |   21 |   20  982   37 | -1235 963 218 |  -173  19   4 |\n",
       "22 |   22 |   20  181    7 |   169  94   4 |  -162  86   4 |\n",
       "23 |   23 |   20  181    7 |   169  94   4 |  -162  86   4 |\n",
       "24 |   24 |   18    0    3 |     0   0   0 |     0   0   0 |\n",
       "25 |   25 |   18    0    3 |     0   0   0 |     0   0   0 |\n",
       "26 |   26 |   20  207   50 |   -45   1   0 |   668 206  64 |\n",
       "27 |   27 |   20  154   10 |   115  32   2 |   227 122   7 |\n",
       "28 |   28 |   20  154   10 |   115  32   2 |   227 122   7 |\n",
       "29 |   29 |   20  154   10 |   115  32   2 |   227 122   7 |\n",
       "30 |   30 |   20  154   10 |   115  32   2 |   227 122   7 |\n",
       "31 |   31 |   20  154   10 |   115  32   2 |   227 122   7 |\n",
       "32 |   32 |   20  181    7 |   169  94   4 |  -162  86   4 |\n",
       "33 |   33 |   20  181    7 |   169  94   4 |  -162  86   4 |\n",
       "34 |   34 |   20  181    7 |   169  94   4 |  -162  86   4 |\n",
       "35 |   35 |   20   35   37 |   199  25   6 |   127  10   2 |\n",
       "36 |   36 |   18    0    3 |     0   0   0 |     0   0   0 |\n",
       "37 |   37 |   18    0    3 |     0   0   0 |     0   0   0 |\n",
       "38 |   38 |   20  207   50 |   -45   1   0 |   668 206  64 |\n",
       "39 |   39 |   20  154   10 |   115  32   2 |   227 122   7 |\n",
       "40 |   40 |   20  154   10 |   115  32   2 |   227 122   7 |\n",
       "41 |   41 |   20  154   10 |   115  32   2 |   227 122   7 |\n",
       "42 |   42 |   20  181    7 |   169  94   4 |  -162  86   4 |\n",
       "43 |   43 |   20  181    7 |   169  94   4 |  -162  86   4 |\n",
       "44 |   44 |   20  672  159 |   363  19  19 | -2110 653 638 |\n",
       "45 |   45 |   20  181    7 |   169  94   4 |  -162  86   4 |\n",
       "46 |   46 |   20  154   10 |   115  32   2 |   227 122   7 |\n",
       "47 |   47 |   20  154   10 |   115  32   2 |   227 122   7 |\n",
       "48 |   48 |   20  181    7 |   169  94   4 |  -162  86   4 |\n",
       "49 |   49 |   20  181    7 |   169  94   4 |  -162  86   4 |\n",
       "50 |   50 |   20  181    7 |   169  94   4 |  -162  86   4 |\n",
       "\n",
       "Columns:\n",
       "      name   mass  qlt  inr     k=1 cor ctr     k=2 cor ctr  \n",
       "1 | 10m__N |    9    0  152 |     0   0   0 |     0   0   0 |\n",
       "2 |   grd_ |  877    0    3 |     0   0   0 |     0   0   0 |\n",
       "3 | 10__NE |   12   35  149 |   526  25  23 |   335  10   9 |\n",
       "4 | 10__NW |   12  970  149 | -3266 951 873 |  -458  19  17 |\n",
       "5 | 10m__S |    3  670  159 |   961  19  19 | -5582 651 638 |\n",
       "6 | 10__SE |    9  205  152 |  -120   1   1 |  1766 204 192 |\n",
       "7 | 10__SW |   35  147  122 |   304  30  23 |   599 117  88 |\n",
       "8 |  10__W |   44  170  112 |   447  89  61 |  -428  81  56 |"
      ]
     },
     "metadata": {},
     "output_type": "display_data"
    },
    {
     "data": {
      "image/png": "[encoded data removed]",
      "text/plain": [
       "plot without title"
      ]
     },
     "metadata": {
      "image/png": {
       "height": 420,
       "width": 420
      }
     },
     "output_type": "display_data"
    }
   ],
   "source": [
    "plot(ca(dane), mass=c(T,T))\n",
    "summary(ca(dane))\n"
   ]
  }
 ],
 "metadata": {
  "kernelspec": {
   "display_name": "R 4.4.0",
   "language": "R",
   "name": "ir44"
  },
  "language_info": {
   "codemirror_mode": "r",
   "file_extension": ".r",
   "mimetype": "text/x-r-source",
   "name": "R",
   "pygments_lexer": "r",
   "version": "4.4.0"
  }
 },
 "nbformat": 4,
 "nbformat_minor": 5
}
